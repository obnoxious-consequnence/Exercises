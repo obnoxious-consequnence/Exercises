{
 "cells": [
  {
   "cell_type": "code",
   "execution_count": 2,
   "metadata": {},
   "outputs": [
    {
     "name": "stdout",
     "output_type": "stream",
     "text": [
      "Populating the interactive namespace from numpy and matplotlib\n"
     ]
    }
   ],
   "source": [
    "%pylab inline\n",
    "import sklearn"
   ]
  },
  {
   "cell_type": "markdown",
   "metadata": {},
   "source": [
    "# Exercise\n",
    "- Use the CountVectorizer from sklearn.feature_extraction to read the book data/moby_dick.txt\n",
    "    - How many times does the word 'wood' appear?\n",
    "- Use the load_digits function from the sklearn.datasets package to load a sklearn dataset\n",
    "    - The package contains .data of 8x8 images. Extract the first image in an 8x8 array\n",
    "    - Use the plt.imshow function to plot the image"
   ]
  },
  {
   "cell_type": "code",
   "execution_count": 3,
   "metadata": {},
   "outputs": [],
   "source": [
    "!python download_url.py https://raw.githubusercontent.com/datsoftlyngby/dat4sem2019spring-python-materials/master/data/moby_dick.txt"
   ]
  },
  {
   "cell_type": "code",
   "execution_count": 4,
   "metadata": {},
   "outputs": [
    {
     "name": "stdout",
     "output_type": "stream",
     "text": [
      "wood:  17232\n",
      "13\n"
     ]
    }
   ],
   "source": [
    "from sklearn.feature_extraction.text import CountVectorizer\n",
    "from pprint import pprint as pp\n",
    "\n",
    "moby_dick = open('./moby_dick.txt', 'r', encoding='utf8')\n",
    "\n",
    "cv = CountVectorizer()\n",
    "cv_fit = cv.fit_transform(moby_dick).toarray() \n",
    "print('wood: ',cv.vocabulary_['wood'])\n",
    "\n",
    "print(cv_fit[cv.vocabulary_['wood']].sum(axis=0))"
   ]
  }
 ],
 "metadata": {
  "kernelspec": {
   "display_name": "Python 3",
   "language": "python",
   "name": "python3"
  },
  "language_info": {
   "codemirror_mode": {
    "name": "ipython",
    "version": 3
   },
   "file_extension": ".py",
   "mimetype": "text/x-python",
   "name": "python",
   "nbconvert_exporter": "python",
   "pygments_lexer": "ipython3",
   "version": "3.7.1"
  }
 },
 "nbformat": 4,
 "nbformat_minor": 2
}
