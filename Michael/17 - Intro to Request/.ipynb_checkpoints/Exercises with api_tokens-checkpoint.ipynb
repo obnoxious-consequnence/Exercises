{
 "cells": [
  {
   "cell_type": "code",
   "execution_count": null,
   "metadata": {},
   "outputs": [],
   "source": [
    "# Remember to make your own file with api_keys - DO NOT PUBLISH YOUR API KEYS\n",
    "import api_keys\n",
    "import requests\n",
    "\n",
    "url = \"https://github.com/datsoftlyngby/dat4sem2019spring-python-materials\"\n",
    "headers = {\"Authorization\": \"token {}\".format(api_keys.GITHUB_API_KEY)}\n",
    "\n",
    "r = requests.get(url, headers=headers)\n",
    "print(r.json)"
   ]
  }
 ],
 "metadata": {
  "kernelspec": {
   "display_name": "Python 3",
   "language": "python",
   "name": "python3"
  },
  "language_info": {
   "codemirror_mode": {
    "name": "ipython",
    "version": 3
   },
   "file_extension": ".py",
   "mimetype": "text/x-python",
   "name": "python",
   "nbconvert_exporter": "python",
   "pygments_lexer": "ipython3",
   "version": "3.7.1"
  }
 },
 "nbformat": 4,
 "nbformat_minor": 2
}
