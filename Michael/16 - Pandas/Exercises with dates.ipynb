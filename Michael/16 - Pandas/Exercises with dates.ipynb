{
 "cells": [
  {
   "cell_type": "markdown",
   "metadata": {},
   "source": [
    "# Class exercise with dates\n",
    "Create a function: getMeetingDates in a module called myUtilities.py\n",
    "- the function must take 3 arguments (period_as_timedelta, time_of_day, number_of_meetings, start_date=now())\n",
    "- the function should then return a list of datetimes for a series of meetings that should take place from start_date and evenly distributed throughout the period.\n",
    "- create another list of number of attendents, that was actually there at each meeting.\n",
    "- create a bar plot of attendance through the series of meetings."
   ]
  },
  {
   "cell_type": "code",
   "execution_count": 13,
   "metadata": {},
   "outputs": [
    {
     "name": "stdout",
     "output_type": "stream",
     "text": [
      "Populating the interactive namespace from numpy and matplotlib\n"
     ]
    }
   ],
   "source": [
    "%pylab inline"
   ]
  },
  {
   "cell_type": "code",
   "execution_count": 23,
   "metadata": {},
   "outputs": [
    {
     "name": "stdout",
     "output_type": "stream",
     "text": [
      "day_deltas [0 1 2 3 4 5 6]\n",
      "base_time_of_day 2019-03-05 17:00:00\n"
     ]
    },
    {
     "data": {
      "text/plain": [
       "[datetime.datetime(2019, 3, 5, 17, 0),\n",
       " datetime.datetime(2019, 3, 6, 17, 0),\n",
       " datetime.datetime(2019, 3, 7, 17, 0),\n",
       " datetime.datetime(2019, 3, 8, 17, 0),\n",
       " datetime.datetime(2019, 3, 9, 17, 0),\n",
       " datetime.datetime(2019, 3, 10, 17, 0),\n",
       " datetime.datetime(2019, 3, 11, 17, 0)]"
      ]
     },
     "execution_count": 23,
     "metadata": {},
     "output_type": "execute_result"
    }
   ],
   "source": [
    "import myUtilities\n",
    "from importlib import reload\n",
    "reload(myUtilities)\n",
    "\n",
    "myUtilities.get_meeting_dates(timedelta(7), time(17, 0), 7)"
   ]
  }
 ],
 "metadata": {
  "kernelspec": {
   "display_name": "Python 3",
   "language": "python",
   "name": "python3"
  },
  "language_info": {
   "codemirror_mode": {
    "name": "ipython",
    "version": 3
   },
   "file_extension": ".py",
   "mimetype": "text/x-python",
   "name": "python",
   "nbconvert_exporter": "python",
   "pygments_lexer": "ipython3",
   "version": "3.7.1"
  }
 },
 "nbformat": 4,
 "nbformat_minor": 2
}
