{
 "cells": [
  {
   "cell_type": "markdown",
   "metadata": {},
   "source": [
    "# Exercises\n",
    "\n",
    "![image](http://forums.pixeltailgames.com/uploads/default/original/2X/f/f9c0a82e6ada756bc3f549b6a678e79df2cb5e1a.gif)\n",
    "\n",
    "  1. Write a function that iterates through a list and prints each value **without using a loop**. That is, write a recursive function to print the values of a list.\n",
    "  2. Write a module `webget.py` that exposes a function to download a file from the web in case it does not exist locally already. The function shall have the following signature `download(url, to=None)` where the keyword argument `to` specifies where to save a file locally and with which name. If `to == None` then the file shall be saved in the current working directory `./` with the same name as it has at its origin. For example, calling your program as in the following\n",
    "\n",
    "  ```python\n",
    "  import webget\n",
    "\n",
    "  url = 'http://data.kk.dk/dataset/76ecf368-bf2d-46a2-bcf8-adaf37662528/resource/9286af17-f74e-46c9-a428-9fb707542189/download/befkbhalderstatkode.csv'\n",
    "  webget.download(url)\n",
    "  ```\n",
    "\n",
    "  will download the remote file to `./befkbhalderstatkode.csv`.\n",
    "\n",
    "  Likely, you will need functions from the standard library modules `os`, and `urllib`. For example, read the doc strings for the following functions and implement the given function stub with help of them.\n",
    "\n",
    "    * `os.path.isfile?`\n",
    "    * `os.path.join?`\n",
    "    * `os.path.basename?`\n",
    "    * `urllib.parse?` \n",
    "    * `urllib.request.urlretrieve?`"
   ]
  },
  {
   "cell_type": "code",
   "execution_count": 19,
   "metadata": {},
   "outputs": [
    {
     "name": "stdout",
     "output_type": "stream",
     "text": [
      "0\n",
      "1\n",
      "2\n",
      "3\n",
      "4\n"
     ]
    }
   ],
   "source": [
    "def printList(data, index=0):\n",
    "    if index != len(data):\n",
    "        print(data[index])\n",
    "        printList(data, index +1)\n",
    "printList([x for x in range(5)])"
   ]
  },
  {
   "cell_type": "code",
   "execution_count": 21,
   "metadata": {},
   "outputs": [
    {
     "name": "stdout",
     "output_type": "stream",
     "text": [
      "Help on package urllib:\n",
      "\n",
      "NAME\n",
      "    urllib\n",
      "\n",
      "PACKAGE CONTENTS\n",
      "    error\n",
      "    parse\n",
      "    request\n",
      "    response\n",
      "    robotparser\n",
      "\n",
      "FILE\n",
      "    c:\\users\\user\\anaconda3\\lib\\urllib\\__init__.py\n",
      "\n",
      "\n"
     ]
    }
   ],
   "source": [
    "import urllib\n",
    "help(urllib)"
   ]
  }
 ],
 "metadata": {
  "kernelspec": {
   "display_name": "Python 3",
   "language": "python",
   "name": "python3"
  },
  "language_info": {
   "codemirror_mode": {
    "name": "ipython",
    "version": 3
   },
   "file_extension": ".py",
   "mimetype": "text/x-python",
   "name": "python",
   "nbconvert_exporter": "python",
   "pygments_lexer": "ipython3",
   "version": "3.7.1"
  }
 },
 "nbformat": 4,
 "nbformat_minor": 2
}
